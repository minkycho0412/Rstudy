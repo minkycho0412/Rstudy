{
  "nbformat": 4,
  "nbformat_minor": 0,
  "metadata": {
    "colab": {
      "name": "R_20220804.ipynb",
      "provenance": [],
      "collapsed_sections": [],
      "authorship_tag": "ABX9TyPOATqFLOOIGGaMzSR+mWGd",
      "include_colab_link": true
    },
    "kernelspec": {
      "name": "ir",
      "display_name": "R"
    },
    "language_info": {
      "name": "R"
    },
    "gpuClass": "standard"
  },
  "cells": [
    {
      "cell_type": "markdown",
      "metadata": {
        "id": "view-in-github",
        "colab_type": "text"
      },
      "source": [
        "<a href=\"https://colab.research.google.com/github/minkycho0412/Rstudy/blob/main/R_20220804.ipynb\" target=\"_parent\"><img src=\"https://colab.research.google.com/assets/colab-badge.svg\" alt=\"Open In Colab\"/></a>"
      ]
    },
    {
      "cell_type": "code",
      "execution_count": null,
      "metadata": {
        "id": "xkwWoBIeZ29i",
        "colab": {
          "base_uri": "https://localhost:8080/",
          "height": 86
        },
        "outputId": "388d758b-fb1f-4c34-bb5f-3f45a22ab876"
      },
      "outputs": [
        {
          "output_type": "display_data",
          "data": {
            "text/html": [
              "30"
            ],
            "text/markdown": "30",
            "text/latex": "30",
            "text/plain": [
              "[1] 30"
            ]
          },
          "metadata": {}
        },
        {
          "output_type": "display_data",
          "data": {
            "text/html": [
              "'numeric'"
            ],
            "text/markdown": "'numeric'",
            "text/latex": "'numeric'",
            "text/plain": [
              "[1] \"numeric\""
            ]
          },
          "metadata": {}
        },
        {
          "output_type": "display_data",
          "data": {
            "text/html": [
              "'character'"
            ],
            "text/markdown": "'character'",
            "text/latex": "'character'",
            "text/plain": [
              "[1] \"character\""
            ]
          },
          "metadata": {}
        },
        {
          "output_type": "display_data",
          "data": {
            "text/html": [
              "'logical'"
            ],
            "text/markdown": "'logical'",
            "text/latex": "'logical'",
            "text/plain": [
              "[1] \"logical\""
            ]
          },
          "metadata": {}
        }
      ],
      "source": [
        "(a <- 30) # 메모리 넣는 것 동시에 출력\n",
        "a<-30\n",
        "a->b\n",
        "a <- 30\n",
        "b <- \"ABC\"\n",
        "c <- TRUE\n",
        "D <- T\n",
        "e <- FALSE\n",
        "class(a)\n",
        "class(b)\n",
        "class(D)"
      ]
    },
    {
      "cell_type": "code",
      "source": [
        "DA <- \"2022-08-04\"\n",
        "class(DA)\n",
        "\n",
        "DE <- as.Date(DA)\n",
        "class(DE)\n",
        "DN <- as.numeric(DE)\n",
        "TT <- as.Date(\"1970-01-01\")\n",
        "tt <- as.numeric(TT)\n",
        "Sys.Date()\n",
        "as.numeric(Sys.Date())- as.numeric(as.Date(\"1998-04-12\"))"
      ],
      "metadata": {
        "colab": {
          "base_uri": "https://localhost:8080/",
          "height": 86
        },
        "id": "qYosjWU8T8Dl",
        "outputId": "87475af0-e263-4912-b26e-636aced53a02"
      },
      "execution_count": null,
      "outputs": [
        {
          "output_type": "display_data",
          "data": {
            "text/html": [
              "'character'"
            ],
            "text/markdown": "'character'",
            "text/latex": "'character'",
            "text/plain": [
              "[1] \"character\""
            ]
          },
          "metadata": {}
        },
        {
          "output_type": "display_data",
          "data": {
            "text/html": [
              "'Date'"
            ],
            "text/markdown": "'Date'",
            "text/latex": "'Date'",
            "text/plain": [
              "[1] \"Date\""
            ]
          },
          "metadata": {}
        },
        {
          "output_type": "display_data",
          "data": {
            "text/html": [
              "<time datetime=\"2022-08-04\">2022-08-04</time>"
            ],
            "text/markdown": "2022-08-04",
            "text/latex": "2022-08-04",
            "text/plain": [
              "[1] \"2022-08-04\""
            ]
          },
          "metadata": {}
        },
        {
          "output_type": "display_data",
          "data": {
            "text/html": [
              "8880"
            ],
            "text/markdown": "8880",
            "text/latex": "8880",
            "text/plain": [
              "[1] 8880"
            ]
          },
          "metadata": {}
        }
      ]
    },
    {
      "cell_type": "code",
      "source": [
        "# vector\n",
        "x <- c(1,4,6,8,20,34,5,9)\n",
        "x[5]\n",
        "x[2:6]\n",
        "x[c(1,7)]\n",
        "x[c(1:4,7)]"
      ],
      "metadata": {
        "colab": {
          "base_uri": "https://localhost:8080/",
          "height": 86
        },
        "id": "rLXZtip9UUAW",
        "outputId": "e134e9c7-5ade-4585-ac77-0b7918f1ddcf"
      },
      "execution_count": null,
      "outputs": [
        {
          "output_type": "display_data",
          "data": {
            "text/html": [
              "20"
            ],
            "text/markdown": "20",
            "text/latex": "20",
            "text/plain": [
              "[1] 20"
            ]
          },
          "metadata": {}
        },
        {
          "output_type": "display_data",
          "data": {
            "text/html": [
              "<style>\n",
              ".list-inline {list-style: none; margin:0; padding: 0}\n",
              ".list-inline>li {display: inline-block}\n",
              ".list-inline>li:not(:last-child)::after {content: \"\\00b7\"; padding: 0 .5ex}\n",
              "</style>\n",
              "<ol class=list-inline><li>4</li><li>6</li><li>8</li><li>20</li><li>34</li></ol>\n"
            ],
            "text/markdown": "1. 4\n2. 6\n3. 8\n4. 20\n5. 34\n\n\n",
            "text/latex": "\\begin{enumerate*}\n\\item 4\n\\item 6\n\\item 8\n\\item 20\n\\item 34\n\\end{enumerate*}\n",
            "text/plain": [
              "[1]  4  6  8 20 34"
            ]
          },
          "metadata": {}
        },
        {
          "output_type": "display_data",
          "data": {
            "text/html": [
              "<style>\n",
              ".list-inline {list-style: none; margin:0; padding: 0}\n",
              ".list-inline>li {display: inline-block}\n",
              ".list-inline>li:not(:last-child)::after {content: \"\\00b7\"; padding: 0 .5ex}\n",
              "</style>\n",
              "<ol class=list-inline><li>1</li><li>5</li></ol>\n"
            ],
            "text/markdown": "1. 1\n2. 5\n\n\n",
            "text/latex": "\\begin{enumerate*}\n\\item 1\n\\item 5\n\\end{enumerate*}\n",
            "text/plain": [
              "[1] 1 5"
            ]
          },
          "metadata": {}
        },
        {
          "output_type": "display_data",
          "data": {
            "text/html": [
              "<style>\n",
              ".list-inline {list-style: none; margin:0; padding: 0}\n",
              ".list-inline>li {display: inline-block}\n",
              ".list-inline>li:not(:last-child)::after {content: \"\\00b7\"; padding: 0 .5ex}\n",
              "</style>\n",
              "<ol class=list-inline><li>1</li><li>4</li><li>6</li><li>8</li><li>5</li></ol>\n"
            ],
            "text/markdown": "1. 1\n2. 4\n3. 6\n4. 8\n5. 5\n\n\n",
            "text/latex": "\\begin{enumerate*}\n\\item 1\n\\item 4\n\\item 6\n\\item 8\n\\item 5\n\\end{enumerate*}\n",
            "text/plain": [
              "[1] 1 4 6 8 5"
            ]
          },
          "metadata": {}
        }
      ]
    },
    {
      "cell_type": "code",
      "source": [
        "# matrix\n",
        "M1 <- matrix(x, nrow=2, ncol=4) # default는 byrow=F, 행 우선 순위\n",
        "M1\n",
        "M2 <- matrix(x, nrow=2, ncol=4, byrow=T) # 열 우선 순위\n",
        "\n",
        "M2[2,2]\n",
        "M2[,3]\n",
        "M2[2,3:4]\n",
        "M2[1,c(1:2,4)]"
      ],
      "metadata": {
        "colab": {
          "base_uri": "https://localhost:8080/",
          "height": 184
        },
        "id": "FvIGAlQ1fHtQ",
        "outputId": "d4465478-d10d-4033-cd80-8d7d7c051b73"
      },
      "execution_count": null,
      "outputs": [
        {
          "output_type": "display_data",
          "data": {
            "text/html": [
              "<table class=\"dataframe\">\n",
              "<caption>A matrix: 2 × 4 of type dbl</caption>\n",
              "<tbody>\n",
              "\t<tr><td>1</td><td>6</td><td>20</td><td>5</td></tr>\n",
              "\t<tr><td>4</td><td>8</td><td>34</td><td>9</td></tr>\n",
              "</tbody>\n",
              "</table>\n"
            ],
            "text/markdown": "\nA matrix: 2 × 4 of type dbl\n\n| 1 | 6 | 20 | 5 |\n| 4 | 8 | 34 | 9 |\n\n",
            "text/latex": "A matrix: 2 × 4 of type dbl\n\\begin{tabular}{llll}\n\t 1 & 6 & 20 & 5\\\\\n\t 4 & 8 & 34 & 9\\\\\n\\end{tabular}\n",
            "text/plain": [
              "     [,1] [,2] [,3] [,4]\n",
              "[1,] 1    6    20   5   \n",
              "[2,] 4    8    34   9   "
            ]
          },
          "metadata": {}
        },
        {
          "output_type": "display_data",
          "data": {
            "text/html": [
              "34"
            ],
            "text/markdown": "34",
            "text/latex": "34",
            "text/plain": [
              "[1] 34"
            ]
          },
          "metadata": {}
        },
        {
          "output_type": "display_data",
          "data": {
            "text/html": [
              "<style>\n",
              ".list-inline {list-style: none; margin:0; padding: 0}\n",
              ".list-inline>li {display: inline-block}\n",
              ".list-inline>li:not(:last-child)::after {content: \"\\00b7\"; padding: 0 .5ex}\n",
              "</style>\n",
              "<ol class=list-inline><li>6</li><li>5</li></ol>\n"
            ],
            "text/markdown": "1. 6\n2. 5\n\n\n",
            "text/latex": "\\begin{enumerate*}\n\\item 6\n\\item 5\n\\end{enumerate*}\n",
            "text/plain": [
              "[1] 6 5"
            ]
          },
          "metadata": {}
        },
        {
          "output_type": "display_data",
          "data": {
            "text/html": [
              "<style>\n",
              ".list-inline {list-style: none; margin:0; padding: 0}\n",
              ".list-inline>li {display: inline-block}\n",
              ".list-inline>li:not(:last-child)::after {content: \"\\00b7\"; padding: 0 .5ex}\n",
              "</style>\n",
              "<ol class=list-inline><li>5</li><li>9</li></ol>\n"
            ],
            "text/markdown": "1. 5\n2. 9\n\n\n",
            "text/latex": "\\begin{enumerate*}\n\\item 5\n\\item 9\n\\end{enumerate*}\n",
            "text/plain": [
              "[1] 5 9"
            ]
          },
          "metadata": {}
        },
        {
          "output_type": "display_data",
          "data": {
            "text/html": [
              "<style>\n",
              ".list-inline {list-style: none; margin:0; padding: 0}\n",
              ".list-inline>li {display: inline-block}\n",
              ".list-inline>li:not(:last-child)::after {content: \"\\00b7\"; padding: 0 .5ex}\n",
              "</style>\n",
              "<ol class=list-inline><li>1</li><li>4</li><li>8</li></ol>\n"
            ],
            "text/markdown": "1. 1\n2. 4\n3. 8\n\n\n",
            "text/latex": "\\begin{enumerate*}\n\\item 1\n\\item 4\n\\item 8\n\\end{enumerate*}\n",
            "text/plain": [
              "[1] 1 4 8"
            ]
          },
          "metadata": {}
        }
      ]
    },
    {
      "cell_type": "code",
      "source": [
        "# array\n",
        "AR1 <- array(1:40, c(4,5,2))\n",
        "AR1[,,2]\n",
        "AR1[2,,]\n",
        "AR1[,3,]\n",
        "AR1[2,3,2]"
      ],
      "metadata": {
        "colab": {
          "base_uri": "https://localhost:8080/",
          "height": 581
        },
        "id": "q95Q2gcMfL47",
        "outputId": "d2a86078-9cbf-49c9-c828-2c8161d157ce"
      },
      "execution_count": null,
      "outputs": [
        {
          "output_type": "display_data",
          "data": {
            "text/html": [
              "<table class=\"dataframe\">\n",
              "<caption>A matrix: 4 × 5 of type int</caption>\n",
              "<tbody>\n",
              "\t<tr><td>21</td><td>25</td><td>29</td><td>33</td><td>37</td></tr>\n",
              "\t<tr><td>22</td><td>26</td><td>30</td><td>34</td><td>38</td></tr>\n",
              "\t<tr><td>23</td><td>27</td><td>31</td><td>35</td><td>39</td></tr>\n",
              "\t<tr><td>24</td><td>28</td><td>32</td><td>36</td><td>40</td></tr>\n",
              "</tbody>\n",
              "</table>\n"
            ],
            "text/markdown": "\nA matrix: 4 × 5 of type int\n\n| 21 | 25 | 29 | 33 | 37 |\n| 22 | 26 | 30 | 34 | 38 |\n| 23 | 27 | 31 | 35 | 39 |\n| 24 | 28 | 32 | 36 | 40 |\n\n",
            "text/latex": "A matrix: 4 × 5 of type int\n\\begin{tabular}{lllll}\n\t 21 & 25 & 29 & 33 & 37\\\\\n\t 22 & 26 & 30 & 34 & 38\\\\\n\t 23 & 27 & 31 & 35 & 39\\\\\n\t 24 & 28 & 32 & 36 & 40\\\\\n\\end{tabular}\n",
            "text/plain": [
              "     [,1] [,2] [,3] [,4] [,5]\n",
              "[1,] 21   25   29   33   37  \n",
              "[2,] 22   26   30   34   38  \n",
              "[3,] 23   27   31   35   39  \n",
              "[4,] 24   28   32   36   40  "
            ]
          },
          "metadata": {}
        },
        {
          "output_type": "display_data",
          "data": {
            "text/html": [
              "<table class=\"dataframe\">\n",
              "<caption>A matrix: 5 × 2 of type int</caption>\n",
              "<tbody>\n",
              "\t<tr><td> 2</td><td>22</td></tr>\n",
              "\t<tr><td> 6</td><td>26</td></tr>\n",
              "\t<tr><td>10</td><td>30</td></tr>\n",
              "\t<tr><td>14</td><td>34</td></tr>\n",
              "\t<tr><td>18</td><td>38</td></tr>\n",
              "</tbody>\n",
              "</table>\n"
            ],
            "text/markdown": "\nA matrix: 5 × 2 of type int\n\n|  2 | 22 |\n|  6 | 26 |\n| 10 | 30 |\n| 14 | 34 |\n| 18 | 38 |\n\n",
            "text/latex": "A matrix: 5 × 2 of type int\n\\begin{tabular}{ll}\n\t  2 & 22\\\\\n\t  6 & 26\\\\\n\t 10 & 30\\\\\n\t 14 & 34\\\\\n\t 18 & 38\\\\\n\\end{tabular}\n",
            "text/plain": [
              "     [,1] [,2]\n",
              "[1,]  2   22  \n",
              "[2,]  6   26  \n",
              "[3,] 10   30  \n",
              "[4,] 14   34  \n",
              "[5,] 18   38  "
            ]
          },
          "metadata": {}
        },
        {
          "output_type": "display_data",
          "data": {
            "text/html": [
              "<table class=\"dataframe\">\n",
              "<caption>A matrix: 4 × 2 of type int</caption>\n",
              "<tbody>\n",
              "\t<tr><td> 9</td><td>29</td></tr>\n",
              "\t<tr><td>10</td><td>30</td></tr>\n",
              "\t<tr><td>11</td><td>31</td></tr>\n",
              "\t<tr><td>12</td><td>32</td></tr>\n",
              "</tbody>\n",
              "</table>\n"
            ],
            "text/markdown": "\nA matrix: 4 × 2 of type int\n\n|  9 | 29 |\n| 10 | 30 |\n| 11 | 31 |\n| 12 | 32 |\n\n",
            "text/latex": "A matrix: 4 × 2 of type int\n\\begin{tabular}{ll}\n\t  9 & 29\\\\\n\t 10 & 30\\\\\n\t 11 & 31\\\\\n\t 12 & 32\\\\\n\\end{tabular}\n",
            "text/plain": [
              "     [,1] [,2]\n",
              "[1,]  9   29  \n",
              "[2,] 10   30  \n",
              "[3,] 11   31  \n",
              "[4,] 12   32  "
            ]
          },
          "metadata": {}
        },
        {
          "output_type": "display_data",
          "data": {
            "text/html": [
              "30"
            ],
            "text/markdown": "30",
            "text/latex": "30",
            "text/plain": [
              "[1] 30"
            ]
          },
          "metadata": {}
        }
      ]
    },
    {
      "cell_type": "code",
      "source": [
        "# dataframe\n",
        "Id <- c(1:4)\n",
        "Age <- c(45,27,56,75)\n",
        "Status <- c(\"Poor\", \"Improved\", \"Excellent\", \"Poor\")\n",
        "Type <- c(\"T1\", \"T2\", \"T2\", \"T1\")\n",
        "\n",
        "df <- data.frame(Id, Type, Status, Age)\n",
        "M1\n",
        "class(M1)\n",
        "class(AR1)\n",
        "class(df)\n",
        "class(x)\n",
        "str(df) # data.frame의 구조를 알고 싶다\n",
        "df$Age # 가장 많이 쓰는 형태\n",
        "df[,4] # df[\"Age\"]와 출력 모양이 달라짐\n",
        "df[\"Age\"]\n",
        "df$Type\n",
        "with(df, \n",
        "  print(Age))\n",
        "with(df, {\n",
        "  print(Age)\n",
        "  plot(Age)\n",
        "  summary(Age)\n",
        "})\n",
        "str(df)\n",
        "df$Type <- factor(df$Type)\n",
        "df$Type <- as.factor(df$Type)\n",
        "df$Status <- factor(df$Status,  order=T, # 알파벳 순\n",
        "                    levels=c(\"Poor\", \"Improved\", \"Excellent\")) # 순서를 부여함\n"
      ],
      "metadata": {
        "colab": {
          "base_uri": "https://localhost:8080/",
          "height": 1000
        },
        "id": "KxzQFIPbfNoS",
        "outputId": "2e9a5ee6-9c70-435f-8930-a8fcb868448b"
      },
      "execution_count": null,
      "outputs": [
        {
          "output_type": "display_data",
          "data": {
            "text/html": [
              "<table class=\"dataframe\">\n",
              "<caption>A matrix: 2 × 4 of type dbl</caption>\n",
              "<tbody>\n",
              "\t<tr><td>1</td><td>6</td><td>20</td><td>5</td></tr>\n",
              "\t<tr><td>4</td><td>8</td><td>34</td><td>9</td></tr>\n",
              "</tbody>\n",
              "</table>\n"
            ],
            "text/markdown": "\nA matrix: 2 × 4 of type dbl\n\n| 1 | 6 | 20 | 5 |\n| 4 | 8 | 34 | 9 |\n\n",
            "text/latex": "A matrix: 2 × 4 of type dbl\n\\begin{tabular}{llll}\n\t 1 & 6 & 20 & 5\\\\\n\t 4 & 8 & 34 & 9\\\\\n\\end{tabular}\n",
            "text/plain": [
              "     [,1] [,2] [,3] [,4]\n",
              "[1,] 1    6    20   5   \n",
              "[2,] 4    8    34   9   "
            ]
          },
          "metadata": {}
        },
        {
          "output_type": "display_data",
          "data": {
            "text/html": [
              "<style>\n",
              ".list-inline {list-style: none; margin:0; padding: 0}\n",
              ".list-inline>li {display: inline-block}\n",
              ".list-inline>li:not(:last-child)::after {content: \"\\00b7\"; padding: 0 .5ex}\n",
              "</style>\n",
              "<ol class=list-inline><li>'matrix'</li><li>'array'</li></ol>\n"
            ],
            "text/markdown": "1. 'matrix'\n2. 'array'\n\n\n",
            "text/latex": "\\begin{enumerate*}\n\\item 'matrix'\n\\item 'array'\n\\end{enumerate*}\n",
            "text/plain": [
              "[1] \"matrix\" \"array\" "
            ]
          },
          "metadata": {}
        },
        {
          "output_type": "display_data",
          "data": {
            "text/html": [
              "'array'"
            ],
            "text/markdown": "'array'",
            "text/latex": "'array'",
            "text/plain": [
              "[1] \"array\""
            ]
          },
          "metadata": {}
        },
        {
          "output_type": "display_data",
          "data": {
            "text/html": [
              "'data.frame'"
            ],
            "text/markdown": "'data.frame'",
            "text/latex": "'data.frame'",
            "text/plain": [
              "[1] \"data.frame\""
            ]
          },
          "metadata": {}
        },
        {
          "output_type": "display_data",
          "data": {
            "text/html": [
              "'numeric'"
            ],
            "text/markdown": "'numeric'",
            "text/latex": "'numeric'",
            "text/plain": [
              "[1] \"numeric\""
            ]
          },
          "metadata": {}
        },
        {
          "output_type": "stream",
          "name": "stdout",
          "text": [
            "'data.frame':\t4 obs. of  4 variables:\n",
            " $ Id    : int  1 2 3 4\n",
            " $ Type  : chr  \"T1\" \"T2\" \"T2\" \"T1\"\n",
            " $ Status: chr  \"Poor\" \"Improved\" \"Excellent\" \"Poor\"\n",
            " $ Age   : num  45 27 56 75\n"
          ]
        },
        {
          "output_type": "display_data",
          "data": {
            "text/html": [
              "<style>\n",
              ".list-inline {list-style: none; margin:0; padding: 0}\n",
              ".list-inline>li {display: inline-block}\n",
              ".list-inline>li:not(:last-child)::after {content: \"\\00b7\"; padding: 0 .5ex}\n",
              "</style>\n",
              "<ol class=list-inline><li>45</li><li>27</li><li>56</li><li>75</li></ol>\n"
            ],
            "text/markdown": "1. 45\n2. 27\n3. 56\n4. 75\n\n\n",
            "text/latex": "\\begin{enumerate*}\n\\item 45\n\\item 27\n\\item 56\n\\item 75\n\\end{enumerate*}\n",
            "text/plain": [
              "[1] 45 27 56 75"
            ]
          },
          "metadata": {}
        },
        {
          "output_type": "display_data",
          "data": {
            "text/html": [
              "<style>\n",
              ".list-inline {list-style: none; margin:0; padding: 0}\n",
              ".list-inline>li {display: inline-block}\n",
              ".list-inline>li:not(:last-child)::after {content: \"\\00b7\"; padding: 0 .5ex}\n",
              "</style>\n",
              "<ol class=list-inline><li>45</li><li>27</li><li>56</li><li>75</li></ol>\n"
            ],
            "text/markdown": "1. 45\n2. 27\n3. 56\n4. 75\n\n\n",
            "text/latex": "\\begin{enumerate*}\n\\item 45\n\\item 27\n\\item 56\n\\item 75\n\\end{enumerate*}\n",
            "text/plain": [
              "[1] 45 27 56 75"
            ]
          },
          "metadata": {}
        },
        {
          "output_type": "display_data",
          "data": {
            "text/html": [
              "<table class=\"dataframe\">\n",
              "<caption>A data.frame: 4 × 1</caption>\n",
              "<thead>\n",
              "\t<tr><th scope=col>Age</th></tr>\n",
              "\t<tr><th scope=col>&lt;dbl&gt;</th></tr>\n",
              "</thead>\n",
              "<tbody>\n",
              "\t<tr><td>45</td></tr>\n",
              "\t<tr><td>27</td></tr>\n",
              "\t<tr><td>56</td></tr>\n",
              "\t<tr><td>75</td></tr>\n",
              "</tbody>\n",
              "</table>\n"
            ],
            "text/markdown": "\nA data.frame: 4 × 1\n\n| Age &lt;dbl&gt; |\n|---|\n| 45 |\n| 27 |\n| 56 |\n| 75 |\n\n",
            "text/latex": "A data.frame: 4 × 1\n\\begin{tabular}{l}\n Age\\\\\n <dbl>\\\\\n\\hline\n\t 45\\\\\n\t 27\\\\\n\t 56\\\\\n\t 75\\\\\n\\end{tabular}\n",
            "text/plain": [
              "  Age\n",
              "1 45 \n",
              "2 27 \n",
              "3 56 \n",
              "4 75 "
            ]
          },
          "metadata": {}
        },
        {
          "output_type": "display_data",
          "data": {
            "text/html": [
              "<style>\n",
              ".list-inline {list-style: none; margin:0; padding: 0}\n",
              ".list-inline>li {display: inline-block}\n",
              ".list-inline>li:not(:last-child)::after {content: \"\\00b7\"; padding: 0 .5ex}\n",
              "</style>\n",
              "<ol class=list-inline><li>'T1'</li><li>'T2'</li><li>'T2'</li><li>'T1'</li></ol>\n"
            ],
            "text/markdown": "1. 'T1'\n2. 'T2'\n3. 'T2'\n4. 'T1'\n\n\n",
            "text/latex": "\\begin{enumerate*}\n\\item 'T1'\n\\item 'T2'\n\\item 'T2'\n\\item 'T1'\n\\end{enumerate*}\n",
            "text/plain": [
              "[1] \"T1\" \"T2\" \"T2\" \"T1\""
            ]
          },
          "metadata": {}
        },
        {
          "output_type": "stream",
          "name": "stdout",
          "text": [
            "[1] 45 27 56 75\n",
            "[1] 45 27 56 75\n"
          ]
        },
        {
          "output_type": "display_data",
          "data": {
            "text/plain": [
              "   Min. 1st Qu.  Median    Mean 3rd Qu.    Max. \n",
              "  27.00   40.50   50.50   50.75   60.75   75.00 "
            ]
          },
          "metadata": {}
        },
        {
          "output_type": "stream",
          "name": "stdout",
          "text": [
            "'data.frame':\t4 obs. of  4 variables:\n",
            " $ Id    : int  1 2 3 4\n",
            " $ Type  : chr  \"T1\" \"T2\" \"T2\" \"T1\"\n",
            " $ Status: chr  \"Poor\" \"Improved\" \"Excellent\" \"Poor\"\n",
            " $ Age   : num  45 27 56 75\n"
          ]
        },
        {
          "output_type": "display_data",
          "data": {
            "text/plain": [
              "plot without title"
            ],
            "image/png": "[encoded data removed]"
          },
          "metadata": {
            "image/png": {
              "width": 420,
              "height": 420
            }
          }
        }
      ]
    },
    {
      "cell_type": "code",
      "source": [
        "install.packages(\"googleVis\")\n",
        "library(googleVis)\n",
        "Fruits"
      ],
      "metadata": {
        "colab": {
          "base_uri": "https://localhost:8080/",
          "height": 773
        },
        "id": "zdfW8oD2lPBi",
        "outputId": "c183c5b7-1298-40df-d7d4-a550d7d9b9f7"
      },
      "execution_count": null,
      "outputs": [
        {
          "output_type": "stream",
          "name": "stderr",
          "text": [
            "Installing package into ‘/usr/local/lib/R/site-library’\n",
            "(as ‘lib’ is unspecified)\n",
            "\n",
            "Creating a generic function for ‘toJSON’ from package ‘jsonlite’ in package ‘googleVis’\n",
            "\n",
            "\n",
            "Welcome to googleVis version 0.7.0\n",
            "\n",
            "Please read Google's Terms of Use\n",
            "before you start using the package:\n",
            "https://developers.google.com/terms/\n",
            "\n",
            "Note, the plot method of googleVis will by default use\n",
            "the standard browser to display its output.\n",
            "\n",
            "See the googleVis package vignettes for more details,\n",
            "or visit https://mages.github.io/googleVis/.\n",
            "\n",
            "To suppress this message use:\n",
            "suppressPackageStartupMessages(library(googleVis))\n",
            "\n",
            "\n"
          ]
        },
        {
          "output_type": "display_data",
          "data": {
            "text/html": [
              "<table class=\"dataframe\">\n",
              "<caption>A data.frame: 9 × 7</caption>\n",
              "<thead>\n",
              "\t<tr><th></th><th scope=col>Fruit</th><th scope=col>Year</th><th scope=col>Location</th><th scope=col>Sales</th><th scope=col>Expenses</th><th scope=col>Profit</th><th scope=col>Date</th></tr>\n",
              "\t<tr><th></th><th scope=col>&lt;fct&gt;</th><th scope=col>&lt;dbl&gt;</th><th scope=col>&lt;fct&gt;</th><th scope=col>&lt;dbl&gt;</th><th scope=col>&lt;dbl&gt;</th><th scope=col>&lt;dbl&gt;</th><th scope=col>&lt;date&gt;</th></tr>\n",
              "</thead>\n",
              "<tbody>\n",
              "\t<tr><th scope=row>1</th><td>Apples </td><td>2008</td><td>West</td><td> 98</td><td>78</td><td>20</td><td>2008-12-31</td></tr>\n",
              "\t<tr><th scope=row>2</th><td>Apples </td><td>2009</td><td>West</td><td>111</td><td>79</td><td>32</td><td>2009-12-31</td></tr>\n",
              "\t<tr><th scope=row>3</th><td>Apples </td><td>2010</td><td>West</td><td> 89</td><td>76</td><td>13</td><td>2010-12-31</td></tr>\n",
              "\t<tr><th scope=row>4</th><td>Oranges</td><td>2008</td><td>East</td><td> 96</td><td>81</td><td>15</td><td>2008-12-31</td></tr>\n",
              "\t<tr><th scope=row>5</th><td>Bananas</td><td>2008</td><td>East</td><td> 85</td><td>76</td><td> 9</td><td>2008-12-31</td></tr>\n",
              "\t<tr><th scope=row>6</th><td>Oranges</td><td>2009</td><td>East</td><td> 93</td><td>80</td><td>13</td><td>2009-12-31</td></tr>\n",
              "\t<tr><th scope=row>7</th><td>Bananas</td><td>2009</td><td>East</td><td> 94</td><td>78</td><td>16</td><td>2009-12-31</td></tr>\n",
              "\t<tr><th scope=row>8</th><td>Oranges</td><td>2010</td><td>East</td><td> 98</td><td>91</td><td> 7</td><td>2010-12-31</td></tr>\n",
              "\t<tr><th scope=row>9</th><td>Bananas</td><td>2010</td><td>East</td><td> 81</td><td>71</td><td>10</td><td>2010-12-31</td></tr>\n",
              "</tbody>\n",
              "</table>\n"
            ],
            "text/markdown": "\nA data.frame: 9 × 7\n\n| <!--/--> | Fruit &lt;fct&gt; | Year &lt;dbl&gt; | Location &lt;fct&gt; | Sales &lt;dbl&gt; | Expenses &lt;dbl&gt; | Profit &lt;dbl&gt; | Date &lt;date&gt; |\n|---|---|---|---|---|---|---|---|\n| 1 | Apples  | 2008 | West |  98 | 78 | 20 | 2008-12-31 |\n| 2 | Apples  | 2009 | West | 111 | 79 | 32 | 2009-12-31 |\n| 3 | Apples  | 2010 | West |  89 | 76 | 13 | 2010-12-31 |\n| 4 | Oranges | 2008 | East |  96 | 81 | 15 | 2008-12-31 |\n| 5 | Bananas | 2008 | East |  85 | 76 |  9 | 2008-12-31 |\n| 6 | Oranges | 2009 | East |  93 | 80 | 13 | 2009-12-31 |\n| 7 | Bananas | 2009 | East |  94 | 78 | 16 | 2009-12-31 |\n| 8 | Oranges | 2010 | East |  98 | 91 |  7 | 2010-12-31 |\n| 9 | Bananas | 2010 | East |  81 | 71 | 10 | 2010-12-31 |\n\n",
            "text/latex": "A data.frame: 9 × 7\n\\begin{tabular}{r|lllllll}\n  & Fruit & Year & Location & Sales & Expenses & Profit & Date\\\\\n  & <fct> & <dbl> & <fct> & <dbl> & <dbl> & <dbl> & <date>\\\\\n\\hline\n\t1 & Apples  & 2008 & West &  98 & 78 & 20 & 2008-12-31\\\\\n\t2 & Apples  & 2009 & West & 111 & 79 & 32 & 2009-12-31\\\\\n\t3 & Apples  & 2010 & West &  89 & 76 & 13 & 2010-12-31\\\\\n\t4 & Oranges & 2008 & East &  96 & 81 & 15 & 2008-12-31\\\\\n\t5 & Bananas & 2008 & East &  85 & 76 &  9 & 2008-12-31\\\\\n\t6 & Oranges & 2009 & East &  93 & 80 & 13 & 2009-12-31\\\\\n\t7 & Bananas & 2009 & East &  94 & 78 & 16 & 2009-12-31\\\\\n\t8 & Oranges & 2010 & East &  98 & 91 &  7 & 2010-12-31\\\\\n\t9 & Bananas & 2010 & East &  81 & 71 & 10 & 2010-12-31\\\\\n\\end{tabular}\n",
            "text/plain": [
              "  Fruit   Year Location Sales Expenses Profit Date      \n",
              "1 Apples  2008 West      98   78       20     2008-12-31\n",
              "2 Apples  2009 West     111   79       32     2009-12-31\n",
              "3 Apples  2010 West      89   76       13     2010-12-31\n",
              "4 Oranges 2008 East      96   81       15     2008-12-31\n",
              "5 Bananas 2008 East      85   76        9     2008-12-31\n",
              "6 Oranges 2009 East      93   80       13     2009-12-31\n",
              "7 Bananas 2009 East      94   78       16     2009-12-31\n",
              "8 Oranges 2010 East      98   91        7     2010-12-31\n",
              "9 Bananas 2010 East      81   71       10     2010-12-31"
            ]
          },
          "metadata": {}
        }
      ]
    },
    {
      "cell_type": "code",
      "source": [
        "# aggregate\n",
        "aggregate(Sales~Fruit, Fruits, sum)\n",
        "aggregate(Sales~Year, Fruits, sum)\n",
        "# mean, min, max, sd\n",
        "# 지역별 이익의 최대값, 최소값을 구하세요.\n",
        "aggregate(Profit~Location, Fruits, min)\n",
        "aggregate(Profit~Location, Fruits, max)"
      ],
      "metadata": {
        "colab": {
          "base_uri": "https://localhost:8080/",
          "height": 672
        },
        "id": "eomrLtg2n7XN",
        "outputId": "2c38cab2-2d70-4f28-8897-aa0c165b9c10"
      },
      "execution_count": null,
      "outputs": [
        {
          "output_type": "display_data",
          "data": {
            "text/html": [
              "<table class=\"dataframe\">\n",
              "<caption>A data.frame: 3 × 2</caption>\n",
              "<thead>\n",
              "\t<tr><th scope=col>Fruit</th><th scope=col>Sales</th></tr>\n",
              "\t<tr><th scope=col>&lt;fct&gt;</th><th scope=col>&lt;dbl&gt;</th></tr>\n",
              "</thead>\n",
              "<tbody>\n",
              "\t<tr><td>Apples </td><td>298</td></tr>\n",
              "\t<tr><td>Bananas</td><td>260</td></tr>\n",
              "\t<tr><td>Oranges</td><td>287</td></tr>\n",
              "</tbody>\n",
              "</table>\n"
            ],
            "text/markdown": "\nA data.frame: 3 × 2\n\n| Fruit &lt;fct&gt; | Sales &lt;dbl&gt; |\n|---|---|\n| Apples  | 298 |\n| Bananas | 260 |\n| Oranges | 287 |\n\n",
            "text/latex": "A data.frame: 3 × 2\n\\begin{tabular}{ll}\n Fruit & Sales\\\\\n <fct> & <dbl>\\\\\n\\hline\n\t Apples  & 298\\\\\n\t Bananas & 260\\\\\n\t Oranges & 287\\\\\n\\end{tabular}\n",
            "text/plain": [
              "  Fruit   Sales\n",
              "1 Apples  298  \n",
              "2 Bananas 260  \n",
              "3 Oranges 287  "
            ]
          },
          "metadata": {}
        },
        {
          "output_type": "display_data",
          "data": {
            "text/html": [
              "<table class=\"dataframe\">\n",
              "<caption>A data.frame: 3 × 2</caption>\n",
              "<thead>\n",
              "\t<tr><th scope=col>Year</th><th scope=col>Sales</th></tr>\n",
              "\t<tr><th scope=col>&lt;dbl&gt;</th><th scope=col>&lt;dbl&gt;</th></tr>\n",
              "</thead>\n",
              "<tbody>\n",
              "\t<tr><td>2008</td><td>279</td></tr>\n",
              "\t<tr><td>2009</td><td>298</td></tr>\n",
              "\t<tr><td>2010</td><td>268</td></tr>\n",
              "</tbody>\n",
              "</table>\n"
            ],
            "text/markdown": "\nA data.frame: 3 × 2\n\n| Year &lt;dbl&gt; | Sales &lt;dbl&gt; |\n|---|---|\n| 2008 | 279 |\n| 2009 | 298 |\n| 2010 | 268 |\n\n",
            "text/latex": "A data.frame: 3 × 2\n\\begin{tabular}{ll}\n Year & Sales\\\\\n <dbl> & <dbl>\\\\\n\\hline\n\t 2008 & 279\\\\\n\t 2009 & 298\\\\\n\t 2010 & 268\\\\\n\\end{tabular}\n",
            "text/plain": [
              "  Year Sales\n",
              "1 2008 279  \n",
              "2 2009 298  \n",
              "3 2010 268  "
            ]
          },
          "metadata": {}
        },
        {
          "output_type": "display_data",
          "data": {
            "text/html": [
              "<table class=\"dataframe\">\n",
              "<caption>A data.frame: 2 × 2</caption>\n",
              "<thead>\n",
              "\t<tr><th scope=col>Location</th><th scope=col>Profit</th></tr>\n",
              "\t<tr><th scope=col>&lt;fct&gt;</th><th scope=col>&lt;dbl&gt;</th></tr>\n",
              "</thead>\n",
              "<tbody>\n",
              "\t<tr><td>East</td><td> 7</td></tr>\n",
              "\t<tr><td>West</td><td>13</td></tr>\n",
              "</tbody>\n",
              "</table>\n"
            ],
            "text/markdown": "\nA data.frame: 2 × 2\n\n| Location &lt;fct&gt; | Profit &lt;dbl&gt; |\n|---|---|\n| East |  7 |\n| West | 13 |\n\n",
            "text/latex": "A data.frame: 2 × 2\n\\begin{tabular}{ll}\n Location & Profit\\\\\n <fct> & <dbl>\\\\\n\\hline\n\t East &  7\\\\\n\t West & 13\\\\\n\\end{tabular}\n",
            "text/plain": [
              "  Location Profit\n",
              "1 East      7    \n",
              "2 West     13    "
            ]
          },
          "metadata": {}
        },
        {
          "output_type": "display_data",
          "data": {
            "text/html": [
              "<table class=\"dataframe\">\n",
              "<caption>A data.frame: 2 × 2</caption>\n",
              "<thead>\n",
              "\t<tr><th scope=col>Location</th><th scope=col>Profit</th></tr>\n",
              "\t<tr><th scope=col>&lt;fct&gt;</th><th scope=col>&lt;dbl&gt;</th></tr>\n",
              "</thead>\n",
              "<tbody>\n",
              "\t<tr><td>East</td><td>16</td></tr>\n",
              "\t<tr><td>West</td><td>32</td></tr>\n",
              "</tbody>\n",
              "</table>\n"
            ],
            "text/markdown": "\nA data.frame: 2 × 2\n\n| Location &lt;fct&gt; | Profit &lt;dbl&gt; |\n|---|---|\n| East | 16 |\n| West | 32 |\n\n",
            "text/latex": "A data.frame: 2 × 2\n\\begin{tabular}{ll}\n Location & Profit\\\\\n <fct> & <dbl>\\\\\n\\hline\n\t East & 16\\\\\n\t West & 32\\\\\n\\end{tabular}\n",
            "text/plain": [
              "  Location Profit\n",
              "1 East     16    \n",
              "2 West     32    "
            ]
          },
          "metadata": {}
        }
      ]
    },
    {
      "cell_type": "code",
      "source": [
        "install.packages(\"dplyr\")\n",
        "library(dplyr)"
      ],
      "metadata": {
        "colab": {
          "base_uri": "https://localhost:8080/"
        },
        "id": "W6najaMLt1Ys",
        "outputId": "2ae930ba-5add-49a9-ad7d-7adfb743ae91"
      },
      "execution_count": null,
      "outputs": [
        {
          "output_type": "stream",
          "name": "stderr",
          "text": [
            "Installing package into ‘/usr/local/lib/R/site-library’\n",
            "(as ‘lib’ is unspecified)\n",
            "\n",
            "\n",
            "Attaching package: ‘dplyr’\n",
            "\n",
            "\n",
            "The following objects are masked from ‘package:stats’:\n",
            "\n",
            "    filter, lag\n",
            "\n",
            "\n",
            "The following objects are masked from ‘package:base’:\n",
            "\n",
            "    intersect, setdiff, setequal, union\n",
            "\n",
            "\n"
          ]
        }
      ]
    },
    {
      "cell_type": "code",
      "source": [
        "# group_by, summarise\n",
        "# 1) sales를 과일별로 합\n",
        "G.t <- group_by(Fruits, Fruit) # underbar, grouping 준비 단계\n",
        "summarise(G.t, sum(Sales))\n",
        "summarise(G.t, min(Sales))\n",
        "summarise(G.t, M_Profit=mean(Profit), SD_Profit=sd(Profit))"
      ],
      "metadata": {
        "colab": {
          "base_uri": "https://localhost:8080/",
          "height": 542
        },
        "id": "TSx1TiOSt4Bn",
        "outputId": "c42c86fa-38b7-410b-c834-83edb0c19845"
      },
      "execution_count": null,
      "outputs": [
        {
          "output_type": "display_data",
          "data": {
            "text/html": [
              "<table class=\"dataframe\">\n",
              "<caption>A tibble: 3 × 2</caption>\n",
              "<thead>\n",
              "\t<tr><th scope=col>Fruit</th><th scope=col>sum(Sales)</th></tr>\n",
              "\t<tr><th scope=col>&lt;fct&gt;</th><th scope=col>&lt;dbl&gt;</th></tr>\n",
              "</thead>\n",
              "<tbody>\n",
              "\t<tr><td>Apples </td><td>298</td></tr>\n",
              "\t<tr><td>Bananas</td><td>260</td></tr>\n",
              "\t<tr><td>Oranges</td><td>287</td></tr>\n",
              "</tbody>\n",
              "</table>\n"
            ],
            "text/markdown": "\nA tibble: 3 × 2\n\n| Fruit &lt;fct&gt; | sum(Sales) &lt;dbl&gt; |\n|---|---|\n| Apples  | 298 |\n| Bananas | 260 |\n| Oranges | 287 |\n\n",
            "text/latex": "A tibble: 3 × 2\n\\begin{tabular}{ll}\n Fruit & sum(Sales)\\\\\n <fct> & <dbl>\\\\\n\\hline\n\t Apples  & 298\\\\\n\t Bananas & 260\\\\\n\t Oranges & 287\\\\\n\\end{tabular}\n",
            "text/plain": [
              "  Fruit   sum(Sales)\n",
              "1 Apples  298       \n",
              "2 Bananas 260       \n",
              "3 Oranges 287       "
            ]
          },
          "metadata": {}
        },
        {
          "output_type": "display_data",
          "data": {
            "text/html": [
              "<table class=\"dataframe\">\n",
              "<caption>A tibble: 3 × 2</caption>\n",
              "<thead>\n",
              "\t<tr><th scope=col>Fruit</th><th scope=col>min(Sales)</th></tr>\n",
              "\t<tr><th scope=col>&lt;fct&gt;</th><th scope=col>&lt;dbl&gt;</th></tr>\n",
              "</thead>\n",
              "<tbody>\n",
              "\t<tr><td>Apples </td><td>89</td></tr>\n",
              "\t<tr><td>Bananas</td><td>81</td></tr>\n",
              "\t<tr><td>Oranges</td><td>93</td></tr>\n",
              "</tbody>\n",
              "</table>\n"
            ],
            "text/markdown": "\nA tibble: 3 × 2\n\n| Fruit &lt;fct&gt; | min(Sales) &lt;dbl&gt; |\n|---|---|\n| Apples  | 89 |\n| Bananas | 81 |\n| Oranges | 93 |\n\n",
            "text/latex": "A tibble: 3 × 2\n\\begin{tabular}{ll}\n Fruit & min(Sales)\\\\\n <fct> & <dbl>\\\\\n\\hline\n\t Apples  & 89\\\\\n\t Bananas & 81\\\\\n\t Oranges & 93\\\\\n\\end{tabular}\n",
            "text/plain": [
              "  Fruit   min(Sales)\n",
              "1 Apples  89        \n",
              "2 Bananas 81        \n",
              "3 Oranges 93        "
            ]
          },
          "metadata": {}
        },
        {
          "output_type": "display_data",
          "data": {
            "text/html": [
              "<table class=\"dataframe\">\n",
              "<caption>A tibble: 3 × 3</caption>\n",
              "<thead>\n",
              "\t<tr><th scope=col>Fruit</th><th scope=col>M_Profit</th><th scope=col>SD_Profit</th></tr>\n",
              "\t<tr><th scope=col>&lt;fct&gt;</th><th scope=col>&lt;dbl&gt;</th><th scope=col>&lt;dbl&gt;</th></tr>\n",
              "</thead>\n",
              "<tbody>\n",
              "\t<tr><td>Apples </td><td>21.66667</td><td>9.609024</td></tr>\n",
              "\t<tr><td>Bananas</td><td>11.66667</td><td>3.785939</td></tr>\n",
              "\t<tr><td>Oranges</td><td>11.66667</td><td>4.163332</td></tr>\n",
              "</tbody>\n",
              "</table>\n"
            ],
            "text/markdown": "\nA tibble: 3 × 3\n\n| Fruit &lt;fct&gt; | M_Profit &lt;dbl&gt; | SD_Profit &lt;dbl&gt; |\n|---|---|---|\n| Apples  | 21.66667 | 9.609024 |\n| Bananas | 11.66667 | 3.785939 |\n| Oranges | 11.66667 | 4.163332 |\n\n",
            "text/latex": "A tibble: 3 × 3\n\\begin{tabular}{lll}\n Fruit & M\\_Profit & SD\\_Profit\\\\\n <fct> & <dbl> & <dbl>\\\\\n\\hline\n\t Apples  & 21.66667 & 9.609024\\\\\n\t Bananas & 11.66667 & 3.785939\\\\\n\t Oranges & 11.66667 & 4.163332\\\\\n\\end{tabular}\n",
            "text/plain": [
              "  Fruit   M_Profit SD_Profit\n",
              "1 Apples  21.66667 9.609024 \n",
              "2 Bananas 11.66667 3.785939 \n",
              "3 Oranges 11.66667 4.163332 "
            ]
          },
          "metadata": {}
        }
      ]
    },
    {
      "cell_type": "code",
      "source": [
        "# %>%  데이터를 다른쪽으로 토스, 메모리 공간을 다시 만들지 않는다는 장점\n",
        "Fruits %>% \n",
        "  group_by(Fruit) %>% \n",
        "  summarise(mean(Sales), sd(Sales))"
      ],
      "metadata": {
        "colab": {
          "base_uri": "https://localhost:8080/",
          "height": 192
        },
        "id": "W375zSjDyI0l",
        "outputId": "7ced60ba-526d-4980-c950-f3af512cbd2f"
      },
      "execution_count": null,
      "outputs": [
        {
          "output_type": "display_data",
          "data": {
            "text/html": [
              "<table class=\"dataframe\">\n",
              "<caption>A tibble: 3 × 3</caption>\n",
              "<thead>\n",
              "\t<tr><th scope=col>Fruit</th><th scope=col>mean(Sales)</th><th scope=col>sd(Sales)</th></tr>\n",
              "\t<tr><th scope=col>&lt;fct&gt;</th><th scope=col>&lt;dbl&gt;</th><th scope=col>&lt;dbl&gt;</th></tr>\n",
              "</thead>\n",
              "<tbody>\n",
              "\t<tr><td>Apples </td><td>99.33333</td><td>11.060440</td></tr>\n",
              "\t<tr><td>Bananas</td><td>86.66667</td><td> 6.658328</td></tr>\n",
              "\t<tr><td>Oranges</td><td>95.66667</td><td> 2.516611</td></tr>\n",
              "</tbody>\n",
              "</table>\n"
            ],
            "text/markdown": "\nA tibble: 3 × 3\n\n| Fruit &lt;fct&gt; | mean(Sales) &lt;dbl&gt; | sd(Sales) &lt;dbl&gt; |\n|---|---|---|\n| Apples  | 99.33333 | 11.060440 |\n| Bananas | 86.66667 |  6.658328 |\n| Oranges | 95.66667 |  2.516611 |\n\n",
            "text/latex": "A tibble: 3 × 3\n\\begin{tabular}{lll}\n Fruit & mean(Sales) & sd(Sales)\\\\\n <fct> & <dbl> & <dbl>\\\\\n\\hline\n\t Apples  & 99.33333 & 11.060440\\\\\n\t Bananas & 86.66667 &  6.658328\\\\\n\t Oranges & 95.66667 &  2.516611\\\\\n\\end{tabular}\n",
            "text/plain": [
              "  Fruit   mean(Sales) sd(Sales)\n",
              "1 Apples  99.33333    11.060440\n",
              "2 Bananas 86.66667     6.658328\n",
              "3 Oranges 95.66667     2.516611"
            ]
          },
          "metadata": {}
        }
      ]
    },
    {
      "cell_type": "code",
      "source": [
        "# 2) sales를 연도별로 평균\n",
        "Fruits %>% \n",
        "  group_by(Year) %>%\n",
        "  summarise(M_Sales=mean(Sales))"
      ],
      "metadata": {
        "colab": {
          "base_uri": "https://localhost:8080/",
          "height": 192
        },
        "id": "5tUlgKk9yKcq",
        "outputId": "5d9ad357-3d56-4d5b-d2d8-b4f036d79c94"
      },
      "execution_count": null,
      "outputs": [
        {
          "output_type": "display_data",
          "data": {
            "text/html": [
              "<table class=\"dataframe\">\n",
              "<caption>A tibble: 3 × 2</caption>\n",
              "<thead>\n",
              "\t<tr><th scope=col>Year</th><th scope=col>M_Sales</th></tr>\n",
              "\t<tr><th scope=col>&lt;dbl&gt;</th><th scope=col>&lt;dbl&gt;</th></tr>\n",
              "</thead>\n",
              "<tbody>\n",
              "\t<tr><td>2008</td><td>93.00000</td></tr>\n",
              "\t<tr><td>2009</td><td>99.33333</td></tr>\n",
              "\t<tr><td>2010</td><td>89.33333</td></tr>\n",
              "</tbody>\n",
              "</table>\n"
            ],
            "text/markdown": "\nA tibble: 3 × 2\n\n| Year &lt;dbl&gt; | M_Sales &lt;dbl&gt; |\n|---|---|\n| 2008 | 93.00000 |\n| 2009 | 99.33333 |\n| 2010 | 89.33333 |\n\n",
            "text/latex": "A tibble: 3 × 2\n\\begin{tabular}{ll}\n Year & M\\_Sales\\\\\n <dbl> & <dbl>\\\\\n\\hline\n\t 2008 & 93.00000\\\\\n\t 2009 & 99.33333\\\\\n\t 2010 & 89.33333\\\\\n\\end{tabular}\n",
            "text/plain": [
              "  Year M_Sales \n",
              "1 2008 93.00000\n",
              "2 2009 99.33333\n",
              "3 2010 89.33333"
            ]
          },
          "metadata": {}
        }
      ]
    },
    {
      "cell_type": "code",
      "source": [
        "# 3) profit을 지역별로 최대, 최소값 \n",
        "Fruits %>% \n",
        "  group_by(Location) %>% \n",
        "  summarise(Max_Profit=max(Profit), Min_Profit=min(Profit))"
      ],
      "metadata": {
        "colab": {
          "base_uri": "https://localhost:8080/",
          "height": 161
        },
        "id": "Vdeiwjs2yMKE",
        "outputId": "cc6214ad-217f-411c-d918-c5da8cec68f6"
      },
      "execution_count": null,
      "outputs": [
        {
          "output_type": "display_data",
          "data": {
            "text/html": [
              "<table class=\"dataframe\">\n",
              "<caption>A tibble: 2 × 3</caption>\n",
              "<thead>\n",
              "\t<tr><th scope=col>Location</th><th scope=col>Max_Profit</th><th scope=col>Min_Profit</th></tr>\n",
              "\t<tr><th scope=col>&lt;fct&gt;</th><th scope=col>&lt;dbl&gt;</th><th scope=col>&lt;dbl&gt;</th></tr>\n",
              "</thead>\n",
              "<tbody>\n",
              "\t<tr><td>East</td><td>16</td><td> 7</td></tr>\n",
              "\t<tr><td>West</td><td>32</td><td>13</td></tr>\n",
              "</tbody>\n",
              "</table>\n"
            ],
            "text/markdown": "\nA tibble: 2 × 3\n\n| Location &lt;fct&gt; | Max_Profit &lt;dbl&gt; | Min_Profit &lt;dbl&gt; |\n|---|---|---|\n| East | 16 |  7 |\n| West | 32 | 13 |\n\n",
            "text/latex": "A tibble: 2 × 3\n\\begin{tabular}{lll}\n Location & Max\\_Profit & Min\\_Profit\\\\\n <fct> & <dbl> & <dbl>\\\\\n\\hline\n\t East & 16 &  7\\\\\n\t West & 32 & 13\\\\\n\\end{tabular}\n",
            "text/plain": [
              "  Location Max_Profit Min_Profit\n",
              "1 East     16          7        \n",
              "2 West     32         13        "
            ]
          },
          "metadata": {}
        }
      ]
    },
    {
      "cell_type": "code",
      "source": [
        "# 정렬 sort() order()\n",
        "x\n",
        "# 1, 4, 5, 6, 8, 9, 20, 34\n",
        "sort(x)\n",
        "sort(x, decreasing=T)"
      ],
      "metadata": {
        "colab": {
          "base_uri": "https://localhost:8080/",
          "height": 69
        },
        "id": "h1kVugjXyOZC",
        "outputId": "af8aa455-3355-4817-b2af-d13d81a566cd"
      },
      "execution_count": null,
      "outputs": [
        {
          "output_type": "display_data",
          "data": {
            "text/html": [
              "<style>\n",
              ".list-inline {list-style: none; margin:0; padding: 0}\n",
              ".list-inline>li {display: inline-block}\n",
              ".list-inline>li:not(:last-child)::after {content: \"\\00b7\"; padding: 0 .5ex}\n",
              "</style>\n",
              "<ol class=list-inline><li>1</li><li>4</li><li>6</li><li>8</li><li>20</li><li>34</li><li>5</li><li>9</li></ol>\n"
            ],
            "text/markdown": "1. 1\n2. 4\n3. 6\n4. 8\n5. 20\n6. 34\n7. 5\n8. 9\n\n\n",
            "text/latex": "\\begin{enumerate*}\n\\item 1\n\\item 4\n\\item 6\n\\item 8\n\\item 20\n\\item 34\n\\item 5\n\\item 9\n\\end{enumerate*}\n",
            "text/plain": [
              "[1]  1  4  6  8 20 34  5  9"
            ]
          },
          "metadata": {}
        },
        {
          "output_type": "display_data",
          "data": {
            "text/html": [
              "<style>\n",
              ".list-inline {list-style: none; margin:0; padding: 0}\n",
              ".list-inline>li {display: inline-block}\n",
              ".list-inline>li:not(:last-child)::after {content: \"\\00b7\"; padding: 0 .5ex}\n",
              "</style>\n",
              "<ol class=list-inline><li>1</li><li>4</li><li>5</li><li>6</li><li>8</li><li>9</li><li>20</li><li>34</li></ol>\n"
            ],
            "text/markdown": "1. 1\n2. 4\n3. 5\n4. 6\n5. 8\n6. 9\n7. 20\n8. 34\n\n\n",
            "text/latex": "\\begin{enumerate*}\n\\item 1\n\\item 4\n\\item 5\n\\item 6\n\\item 8\n\\item 9\n\\item 20\n\\item 34\n\\end{enumerate*}\n",
            "text/plain": [
              "[1]  1  4  5  6  8  9 20 34"
            ]
          },
          "metadata": {}
        },
        {
          "output_type": "display_data",
          "data": {
            "text/html": [
              "<style>\n",
              ".list-inline {list-style: none; margin:0; padding: 0}\n",
              ".list-inline>li {display: inline-block}\n",
              ".list-inline>li:not(:last-child)::after {content: \"\\00b7\"; padding: 0 .5ex}\n",
              "</style>\n",
              "<ol class=list-inline><li>34</li><li>20</li><li>9</li><li>8</li><li>6</li><li>5</li><li>4</li><li>1</li></ol>\n"
            ],
            "text/markdown": "1. 34\n2. 20\n3. 9\n4. 8\n5. 6\n6. 5\n7. 4\n8. 1\n\n\n",
            "text/latex": "\\begin{enumerate*}\n\\item 34\n\\item 20\n\\item 9\n\\item 8\n\\item 6\n\\item 5\n\\item 4\n\\item 1\n\\end{enumerate*}\n",
            "text/plain": [
              "[1] 34 20  9  8  6  5  4  1"
            ]
          },
          "metadata": {}
        }
      ]
    },
    {
      "cell_type": "code",
      "source": [
        "order(x) # index를 출력함\n",
        "x[order(x)]\n",
        "x[order(x, decreasing=T)]\n",
        "x[order(-x)]"
      ],
      "metadata": {
        "colab": {
          "base_uri": "https://localhost:8080/",
          "height": 86
        },
        "id": "Bl2T9Cst0YGq",
        "outputId": "1e904e1f-0a1c-4f1f-a523-cc522e7cc8a3"
      },
      "execution_count": null,
      "outputs": [
        {
          "output_type": "display_data",
          "data": {
            "text/html": [
              "<style>\n",
              ".list-inline {list-style: none; margin:0; padding: 0}\n",
              ".list-inline>li {display: inline-block}\n",
              ".list-inline>li:not(:last-child)::after {content: \"\\00b7\"; padding: 0 .5ex}\n",
              "</style>\n",
              "<ol class=list-inline><li>1</li><li>2</li><li>7</li><li>3</li><li>4</li><li>8</li><li>5</li><li>6</li></ol>\n"
            ],
            "text/markdown": "1. 1\n2. 2\n3. 7\n4. 3\n5. 4\n6. 8\n7. 5\n8. 6\n\n\n",
            "text/latex": "\\begin{enumerate*}\n\\item 1\n\\item 2\n\\item 7\n\\item 3\n\\item 4\n\\item 8\n\\item 5\n\\item 6\n\\end{enumerate*}\n",
            "text/plain": [
              "[1] 1 2 7 3 4 8 5 6"
            ]
          },
          "metadata": {}
        },
        {
          "output_type": "display_data",
          "data": {
            "text/html": [
              "<style>\n",
              ".list-inline {list-style: none; margin:0; padding: 0}\n",
              ".list-inline>li {display: inline-block}\n",
              ".list-inline>li:not(:last-child)::after {content: \"\\00b7\"; padding: 0 .5ex}\n",
              "</style>\n",
              "<ol class=list-inline><li>1</li><li>4</li><li>5</li><li>6</li><li>8</li><li>9</li><li>20</li><li>34</li></ol>\n"
            ],
            "text/markdown": "1. 1\n2. 4\n3. 5\n4. 6\n5. 8\n6. 9\n7. 20\n8. 34\n\n\n",
            "text/latex": "\\begin{enumerate*}\n\\item 1\n\\item 4\n\\item 5\n\\item 6\n\\item 8\n\\item 9\n\\item 20\n\\item 34\n\\end{enumerate*}\n",
            "text/plain": [
              "[1]  1  4  5  6  8  9 20 34"
            ]
          },
          "metadata": {}
        },
        {
          "output_type": "display_data",
          "data": {
            "text/html": [
              "<style>\n",
              ".list-inline {list-style: none; margin:0; padding: 0}\n",
              ".list-inline>li {display: inline-block}\n",
              ".list-inline>li:not(:last-child)::after {content: \"\\00b7\"; padding: 0 .5ex}\n",
              "</style>\n",
              "<ol class=list-inline><li>34</li><li>20</li><li>9</li><li>8</li><li>6</li><li>5</li><li>4</li><li>1</li></ol>\n"
            ],
            "text/markdown": "1. 34\n2. 20\n3. 9\n4. 8\n5. 6\n6. 5\n7. 4\n8. 1\n\n\n",
            "text/latex": "\\begin{enumerate*}\n\\item 34\n\\item 20\n\\item 9\n\\item 8\n\\item 6\n\\item 5\n\\item 4\n\\item 1\n\\end{enumerate*}\n",
            "text/plain": [
              "[1] 34 20  9  8  6  5  4  1"
            ]
          },
          "metadata": {}
        },
        {
          "output_type": "display_data",
          "data": {
            "text/html": [
              "<style>\n",
              ".list-inline {list-style: none; margin:0; padding: 0}\n",
              ".list-inline>li {display: inline-block}\n",
              ".list-inline>li:not(:last-child)::after {content: \"\\00b7\"; padding: 0 .5ex}\n",
              "</style>\n",
              "<ol class=list-inline><li>34</li><li>20</li><li>9</li><li>8</li><li>6</li><li>5</li><li>4</li><li>1</li></ol>\n"
            ],
            "text/markdown": "1. 34\n2. 20\n3. 9\n4. 8\n5. 6\n6. 5\n7. 4\n8. 1\n\n\n",
            "text/latex": "\\begin{enumerate*}\n\\item 34\n\\item 20\n\\item 9\n\\item 8\n\\item 6\n\\item 5\n\\item 4\n\\item 1\n\\end{enumerate*}\n",
            "text/plain": [
              "[1] 34 20  9  8  6  5  4  1"
            ]
          },
          "metadata": {}
        }
      ]
    },
    {
      "cell_type": "code",
      "source": [
        "# arrange()\n",
        "Fruits\n",
        "arrange(Fruits, Fruit)\n",
        "Fruits %>% \n",
        "  arrange(Fruit)"
      ],
      "metadata": {
        "colab": {
          "base_uri": "https://localhost:8080/",
          "height": 1000
        },
        "id": "qrus6Y580ZhA",
        "outputId": "8d7343e7-cf50-47bb-8adf-8ad479eddb95"
      },
      "execution_count": null,
      "outputs": [
        {
          "output_type": "display_data",
          "data": {
            "text/html": [
              "<table class=\"dataframe\">\n",
              "<caption>A data.frame: 9 × 7</caption>\n",
              "<thead>\n",
              "\t<tr><th></th><th scope=col>Fruit</th><th scope=col>Year</th><th scope=col>Location</th><th scope=col>Sales</th><th scope=col>Expenses</th><th scope=col>Profit</th><th scope=col>Date</th></tr>\n",
              "\t<tr><th></th><th scope=col>&lt;fct&gt;</th><th scope=col>&lt;dbl&gt;</th><th scope=col>&lt;fct&gt;</th><th scope=col>&lt;dbl&gt;</th><th scope=col>&lt;dbl&gt;</th><th scope=col>&lt;dbl&gt;</th><th scope=col>&lt;date&gt;</th></tr>\n",
              "</thead>\n",
              "<tbody>\n",
              "\t<tr><th scope=row>1</th><td>Apples </td><td>2008</td><td>West</td><td> 98</td><td>78</td><td>20</td><td>2008-12-31</td></tr>\n",
              "\t<tr><th scope=row>2</th><td>Apples </td><td>2009</td><td>West</td><td>111</td><td>79</td><td>32</td><td>2009-12-31</td></tr>\n",
              "\t<tr><th scope=row>3</th><td>Apples </td><td>2010</td><td>West</td><td> 89</td><td>76</td><td>13</td><td>2010-12-31</td></tr>\n",
              "\t<tr><th scope=row>4</th><td>Oranges</td><td>2008</td><td>East</td><td> 96</td><td>81</td><td>15</td><td>2008-12-31</td></tr>\n",
              "\t<tr><th scope=row>5</th><td>Bananas</td><td>2008</td><td>East</td><td> 85</td><td>76</td><td> 9</td><td>2008-12-31</td></tr>\n",
              "\t<tr><th scope=row>6</th><td>Oranges</td><td>2009</td><td>East</td><td> 93</td><td>80</td><td>13</td><td>2009-12-31</td></tr>\n",
              "\t<tr><th scope=row>7</th><td>Bananas</td><td>2009</td><td>East</td><td> 94</td><td>78</td><td>16</td><td>2009-12-31</td></tr>\n",
              "\t<tr><th scope=row>8</th><td>Oranges</td><td>2010</td><td>East</td><td> 98</td><td>91</td><td> 7</td><td>2010-12-31</td></tr>\n",
              "\t<tr><th scope=row>9</th><td>Bananas</td><td>2010</td><td>East</td><td> 81</td><td>71</td><td>10</td><td>2010-12-31</td></tr>\n",
              "</tbody>\n",
              "</table>\n"
            ],
            "text/markdown": "\nA data.frame: 9 × 7\n\n| <!--/--> | Fruit &lt;fct&gt; | Year &lt;dbl&gt; | Location &lt;fct&gt; | Sales &lt;dbl&gt; | Expenses &lt;dbl&gt; | Profit &lt;dbl&gt; | Date &lt;date&gt; |\n|---|---|---|---|---|---|---|---|\n| 1 | Apples  | 2008 | West |  98 | 78 | 20 | 2008-12-31 |\n| 2 | Apples  | 2009 | West | 111 | 79 | 32 | 2009-12-31 |\n| 3 | Apples  | 2010 | West |  89 | 76 | 13 | 2010-12-31 |\n| 4 | Oranges | 2008 | East |  96 | 81 | 15 | 2008-12-31 |\n| 5 | Bananas | 2008 | East |  85 | 76 |  9 | 2008-12-31 |\n| 6 | Oranges | 2009 | East |  93 | 80 | 13 | 2009-12-31 |\n| 7 | Bananas | 2009 | East |  94 | 78 | 16 | 2009-12-31 |\n| 8 | Oranges | 2010 | East |  98 | 91 |  7 | 2010-12-31 |\n| 9 | Bananas | 2010 | East |  81 | 71 | 10 | 2010-12-31 |\n\n",
            "text/latex": "A data.frame: 9 × 7\n\\begin{tabular}{r|lllllll}\n  & Fruit & Year & Location & Sales & Expenses & Profit & Date\\\\\n  & <fct> & <dbl> & <fct> & <dbl> & <dbl> & <dbl> & <date>\\\\\n\\hline\n\t1 & Apples  & 2008 & West &  98 & 78 & 20 & 2008-12-31\\\\\n\t2 & Apples  & 2009 & West & 111 & 79 & 32 & 2009-12-31\\\\\n\t3 & Apples  & 2010 & West &  89 & 76 & 13 & 2010-12-31\\\\\n\t4 & Oranges & 2008 & East &  96 & 81 & 15 & 2008-12-31\\\\\n\t5 & Bananas & 2008 & East &  85 & 76 &  9 & 2008-12-31\\\\\n\t6 & Oranges & 2009 & East &  93 & 80 & 13 & 2009-12-31\\\\\n\t7 & Bananas & 2009 & East &  94 & 78 & 16 & 2009-12-31\\\\\n\t8 & Oranges & 2010 & East &  98 & 91 &  7 & 2010-12-31\\\\\n\t9 & Bananas & 2010 & East &  81 & 71 & 10 & 2010-12-31\\\\\n\\end{tabular}\n",
            "text/plain": [
              "  Fruit   Year Location Sales Expenses Profit Date      \n",
              "1 Apples  2008 West      98   78       20     2008-12-31\n",
              "2 Apples  2009 West     111   79       32     2009-12-31\n",
              "3 Apples  2010 West      89   76       13     2010-12-31\n",
              "4 Oranges 2008 East      96   81       15     2008-12-31\n",
              "5 Bananas 2008 East      85   76        9     2008-12-31\n",
              "6 Oranges 2009 East      93   80       13     2009-12-31\n",
              "7 Bananas 2009 East      94   78       16     2009-12-31\n",
              "8 Oranges 2010 East      98   91        7     2010-12-31\n",
              "9 Bananas 2010 East      81   71       10     2010-12-31"
            ]
          },
          "metadata": {}
        },
        {
          "output_type": "display_data",
          "data": {
            "text/html": [
              "<table class=\"dataframe\">\n",
              "<caption>A data.frame: 9 × 7</caption>\n",
              "<thead>\n",
              "\t<tr><th scope=col>Fruit</th><th scope=col>Year</th><th scope=col>Location</th><th scope=col>Sales</th><th scope=col>Expenses</th><th scope=col>Profit</th><th scope=col>Date</th></tr>\n",
              "\t<tr><th scope=col>&lt;fct&gt;</th><th scope=col>&lt;dbl&gt;</th><th scope=col>&lt;fct&gt;</th><th scope=col>&lt;dbl&gt;</th><th scope=col>&lt;dbl&gt;</th><th scope=col>&lt;dbl&gt;</th><th scope=col>&lt;date&gt;</th></tr>\n",
              "</thead>\n",
              "<tbody>\n",
              "\t<tr><td>Apples </td><td>2008</td><td>West</td><td> 98</td><td>78</td><td>20</td><td>2008-12-31</td></tr>\n",
              "\t<tr><td>Apples </td><td>2009</td><td>West</td><td>111</td><td>79</td><td>32</td><td>2009-12-31</td></tr>\n",
              "\t<tr><td>Apples </td><td>2010</td><td>West</td><td> 89</td><td>76</td><td>13</td><td>2010-12-31</td></tr>\n",
              "\t<tr><td>Bananas</td><td>2008</td><td>East</td><td> 85</td><td>76</td><td> 9</td><td>2008-12-31</td></tr>\n",
              "\t<tr><td>Bananas</td><td>2009</td><td>East</td><td> 94</td><td>78</td><td>16</td><td>2009-12-31</td></tr>\n",
              "\t<tr><td>Bananas</td><td>2010</td><td>East</td><td> 81</td><td>71</td><td>10</td><td>2010-12-31</td></tr>\n",
              "\t<tr><td>Oranges</td><td>2008</td><td>East</td><td> 96</td><td>81</td><td>15</td><td>2008-12-31</td></tr>\n",
              "\t<tr><td>Oranges</td><td>2009</td><td>East</td><td> 93</td><td>80</td><td>13</td><td>2009-12-31</td></tr>\n",
              "\t<tr><td>Oranges</td><td>2010</td><td>East</td><td> 98</td><td>91</td><td> 7</td><td>2010-12-31</td></tr>\n",
              "</tbody>\n",
              "</table>\n"
            ],
            "text/markdown": "\nA data.frame: 9 × 7\n\n| Fruit &lt;fct&gt; | Year &lt;dbl&gt; | Location &lt;fct&gt; | Sales &lt;dbl&gt; | Expenses &lt;dbl&gt; | Profit &lt;dbl&gt; | Date &lt;date&gt; |\n|---|---|---|---|---|---|---|\n| Apples  | 2008 | West |  98 | 78 | 20 | 2008-12-31 |\n| Apples  | 2009 | West | 111 | 79 | 32 | 2009-12-31 |\n| Apples  | 2010 | West |  89 | 76 | 13 | 2010-12-31 |\n| Bananas | 2008 | East |  85 | 76 |  9 | 2008-12-31 |\n| Bananas | 2009 | East |  94 | 78 | 16 | 2009-12-31 |\n| Bananas | 2010 | East |  81 | 71 | 10 | 2010-12-31 |\n| Oranges | 2008 | East |  96 | 81 | 15 | 2008-12-31 |\n| Oranges | 2009 | East |  93 | 80 | 13 | 2009-12-31 |\n| Oranges | 2010 | East |  98 | 91 |  7 | 2010-12-31 |\n\n",
            "text/latex": "A data.frame: 9 × 7\n\\begin{tabular}{lllllll}\n Fruit & Year & Location & Sales & Expenses & Profit & Date\\\\\n <fct> & <dbl> & <fct> & <dbl> & <dbl> & <dbl> & <date>\\\\\n\\hline\n\t Apples  & 2008 & West &  98 & 78 & 20 & 2008-12-31\\\\\n\t Apples  & 2009 & West & 111 & 79 & 32 & 2009-12-31\\\\\n\t Apples  & 2010 & West &  89 & 76 & 13 & 2010-12-31\\\\\n\t Bananas & 2008 & East &  85 & 76 &  9 & 2008-12-31\\\\\n\t Bananas & 2009 & East &  94 & 78 & 16 & 2009-12-31\\\\\n\t Bananas & 2010 & East &  81 & 71 & 10 & 2010-12-31\\\\\n\t Oranges & 2008 & East &  96 & 81 & 15 & 2008-12-31\\\\\n\t Oranges & 2009 & East &  93 & 80 & 13 & 2009-12-31\\\\\n\t Oranges & 2010 & East &  98 & 91 &  7 & 2010-12-31\\\\\n\\end{tabular}\n",
            "text/plain": [
              "  Fruit   Year Location Sales Expenses Profit Date      \n",
              "1 Apples  2008 West      98   78       20     2008-12-31\n",
              "2 Apples  2009 West     111   79       32     2009-12-31\n",
              "3 Apples  2010 West      89   76       13     2010-12-31\n",
              "4 Bananas 2008 East      85   76        9     2008-12-31\n",
              "5 Bananas 2009 East      94   78       16     2009-12-31\n",
              "6 Bananas 2010 East      81   71       10     2010-12-31\n",
              "7 Oranges 2008 East      96   81       15     2008-12-31\n",
              "8 Oranges 2009 East      93   80       13     2009-12-31\n",
              "9 Oranges 2010 East      98   91        7     2010-12-31"
            ]
          },
          "metadata": {}
        },
        {
          "output_type": "display_data",
          "data": {
            "text/html": [
              "<table class=\"dataframe\">\n",
              "<caption>A data.frame: 9 × 7</caption>\n",
              "<thead>\n",
              "\t<tr><th scope=col>Fruit</th><th scope=col>Year</th><th scope=col>Location</th><th scope=col>Sales</th><th scope=col>Expenses</th><th scope=col>Profit</th><th scope=col>Date</th></tr>\n",
              "\t<tr><th scope=col>&lt;fct&gt;</th><th scope=col>&lt;dbl&gt;</th><th scope=col>&lt;fct&gt;</th><th scope=col>&lt;dbl&gt;</th><th scope=col>&lt;dbl&gt;</th><th scope=col>&lt;dbl&gt;</th><th scope=col>&lt;date&gt;</th></tr>\n",
              "</thead>\n",
              "<tbody>\n",
              "\t<tr><td>Apples </td><td>2008</td><td>West</td><td> 98</td><td>78</td><td>20</td><td>2008-12-31</td></tr>\n",
              "\t<tr><td>Apples </td><td>2009</td><td>West</td><td>111</td><td>79</td><td>32</td><td>2009-12-31</td></tr>\n",
              "\t<tr><td>Apples </td><td>2010</td><td>West</td><td> 89</td><td>76</td><td>13</td><td>2010-12-31</td></tr>\n",
              "\t<tr><td>Bananas</td><td>2008</td><td>East</td><td> 85</td><td>76</td><td> 9</td><td>2008-12-31</td></tr>\n",
              "\t<tr><td>Bananas</td><td>2009</td><td>East</td><td> 94</td><td>78</td><td>16</td><td>2009-12-31</td></tr>\n",
              "\t<tr><td>Bananas</td><td>2010</td><td>East</td><td> 81</td><td>71</td><td>10</td><td>2010-12-31</td></tr>\n",
              "\t<tr><td>Oranges</td><td>2008</td><td>East</td><td> 96</td><td>81</td><td>15</td><td>2008-12-31</td></tr>\n",
              "\t<tr><td>Oranges</td><td>2009</td><td>East</td><td> 93</td><td>80</td><td>13</td><td>2009-12-31</td></tr>\n",
              "\t<tr><td>Oranges</td><td>2010</td><td>East</td><td> 98</td><td>91</td><td> 7</td><td>2010-12-31</td></tr>\n",
              "</tbody>\n",
              "</table>\n"
            ],
            "text/markdown": "\nA data.frame: 9 × 7\n\n| Fruit &lt;fct&gt; | Year &lt;dbl&gt; | Location &lt;fct&gt; | Sales &lt;dbl&gt; | Expenses &lt;dbl&gt; | Profit &lt;dbl&gt; | Date &lt;date&gt; |\n|---|---|---|---|---|---|---|\n| Apples  | 2008 | West |  98 | 78 | 20 | 2008-12-31 |\n| Apples  | 2009 | West | 111 | 79 | 32 | 2009-12-31 |\n| Apples  | 2010 | West |  89 | 76 | 13 | 2010-12-31 |\n| Bananas | 2008 | East |  85 | 76 |  9 | 2008-12-31 |\n| Bananas | 2009 | East |  94 | 78 | 16 | 2009-12-31 |\n| Bananas | 2010 | East |  81 | 71 | 10 | 2010-12-31 |\n| Oranges | 2008 | East |  96 | 81 | 15 | 2008-12-31 |\n| Oranges | 2009 | East |  93 | 80 | 13 | 2009-12-31 |\n| Oranges | 2010 | East |  98 | 91 |  7 | 2010-12-31 |\n\n",
            "text/latex": "A data.frame: 9 × 7\n\\begin{tabular}{lllllll}\n Fruit & Year & Location & Sales & Expenses & Profit & Date\\\\\n <fct> & <dbl> & <fct> & <dbl> & <dbl> & <dbl> & <date>\\\\\n\\hline\n\t Apples  & 2008 & West &  98 & 78 & 20 & 2008-12-31\\\\\n\t Apples  & 2009 & West & 111 & 79 & 32 & 2009-12-31\\\\\n\t Apples  & 2010 & West &  89 & 76 & 13 & 2010-12-31\\\\\n\t Bananas & 2008 & East &  85 & 76 &  9 & 2008-12-31\\\\\n\t Bananas & 2009 & East &  94 & 78 & 16 & 2009-12-31\\\\\n\t Bananas & 2010 & East &  81 & 71 & 10 & 2010-12-31\\\\\n\t Oranges & 2008 & East &  96 & 81 & 15 & 2008-12-31\\\\\n\t Oranges & 2009 & East &  93 & 80 & 13 & 2009-12-31\\\\\n\t Oranges & 2010 & East &  98 & 91 &  7 & 2010-12-31\\\\\n\\end{tabular}\n",
            "text/plain": [
              "  Fruit   Year Location Sales Expenses Profit Date      \n",
              "1 Apples  2008 West      98   78       20     2008-12-31\n",
              "2 Apples  2009 West     111   79       32     2009-12-31\n",
              "3 Apples  2010 West      89   76       13     2010-12-31\n",
              "4 Bananas 2008 East      85   76        9     2008-12-31\n",
              "5 Bananas 2009 East      94   78       16     2009-12-31\n",
              "6 Bananas 2010 East      81   71       10     2010-12-31\n",
              "7 Oranges 2008 East      96   81       15     2008-12-31\n",
              "8 Oranges 2009 East      93   80       13     2009-12-31\n",
              "9 Oranges 2010 East      98   91        7     2010-12-31"
            ]
          },
          "metadata": {}
        }
      ]
    },
    {
      "cell_type": "code",
      "source": [
        "arrange(Fruits, Fruit, desc(Year))\n",
        "Fruits %>% \n",
        "  arrange(Fruit, desc(Year))\n"
      ],
      "metadata": {
        "id": "6w64kmu-1vJc",
        "outputId": "8620cde9-b968-48f3-a115-0313bdf8aa31",
        "colab": {
          "base_uri": "https://localhost:8080/",
          "height": 744
        }
      },
      "execution_count": null,
      "outputs": [
        {
          "output_type": "display_data",
          "data": {
            "text/html": [
              "<table class=\"dataframe\">\n",
              "<caption>A data.frame: 9 × 7</caption>\n",
              "<thead>\n",
              "\t<tr><th scope=col>Fruit</th><th scope=col>Year</th><th scope=col>Location</th><th scope=col>Sales</th><th scope=col>Expenses</th><th scope=col>Profit</th><th scope=col>Date</th></tr>\n",
              "\t<tr><th scope=col>&lt;fct&gt;</th><th scope=col>&lt;dbl&gt;</th><th scope=col>&lt;fct&gt;</th><th scope=col>&lt;dbl&gt;</th><th scope=col>&lt;dbl&gt;</th><th scope=col>&lt;dbl&gt;</th><th scope=col>&lt;date&gt;</th></tr>\n",
              "</thead>\n",
              "<tbody>\n",
              "\t<tr><td>Apples </td><td>2010</td><td>West</td><td> 89</td><td>76</td><td>13</td><td>2010-12-31</td></tr>\n",
              "\t<tr><td>Apples </td><td>2009</td><td>West</td><td>111</td><td>79</td><td>32</td><td>2009-12-31</td></tr>\n",
              "\t<tr><td>Apples </td><td>2008</td><td>West</td><td> 98</td><td>78</td><td>20</td><td>2008-12-31</td></tr>\n",
              "\t<tr><td>Bananas</td><td>2010</td><td>East</td><td> 81</td><td>71</td><td>10</td><td>2010-12-31</td></tr>\n",
              "\t<tr><td>Bananas</td><td>2009</td><td>East</td><td> 94</td><td>78</td><td>16</td><td>2009-12-31</td></tr>\n",
              "\t<tr><td>Bananas</td><td>2008</td><td>East</td><td> 85</td><td>76</td><td> 9</td><td>2008-12-31</td></tr>\n",
              "\t<tr><td>Oranges</td><td>2010</td><td>East</td><td> 98</td><td>91</td><td> 7</td><td>2010-12-31</td></tr>\n",
              "\t<tr><td>Oranges</td><td>2009</td><td>East</td><td> 93</td><td>80</td><td>13</td><td>2009-12-31</td></tr>\n",
              "\t<tr><td>Oranges</td><td>2008</td><td>East</td><td> 96</td><td>81</td><td>15</td><td>2008-12-31</td></tr>\n",
              "</tbody>\n",
              "</table>\n"
            ],
            "text/markdown": "\nA data.frame: 9 × 7\n\n| Fruit &lt;fct&gt; | Year &lt;dbl&gt; | Location &lt;fct&gt; | Sales &lt;dbl&gt; | Expenses &lt;dbl&gt; | Profit &lt;dbl&gt; | Date &lt;date&gt; |\n|---|---|---|---|---|---|---|\n| Apples  | 2010 | West |  89 | 76 | 13 | 2010-12-31 |\n| Apples  | 2009 | West | 111 | 79 | 32 | 2009-12-31 |\n| Apples  | 2008 | West |  98 | 78 | 20 | 2008-12-31 |\n| Bananas | 2010 | East |  81 | 71 | 10 | 2010-12-31 |\n| Bananas | 2009 | East |  94 | 78 | 16 | 2009-12-31 |\n| Bananas | 2008 | East |  85 | 76 |  9 | 2008-12-31 |\n| Oranges | 2010 | East |  98 | 91 |  7 | 2010-12-31 |\n| Oranges | 2009 | East |  93 | 80 | 13 | 2009-12-31 |\n| Oranges | 2008 | East |  96 | 81 | 15 | 2008-12-31 |\n\n",
            "text/latex": "A data.frame: 9 × 7\n\\begin{tabular}{lllllll}\n Fruit & Year & Location & Sales & Expenses & Profit & Date\\\\\n <fct> & <dbl> & <fct> & <dbl> & <dbl> & <dbl> & <date>\\\\\n\\hline\n\t Apples  & 2010 & West &  89 & 76 & 13 & 2010-12-31\\\\\n\t Apples  & 2009 & West & 111 & 79 & 32 & 2009-12-31\\\\\n\t Apples  & 2008 & West &  98 & 78 & 20 & 2008-12-31\\\\\n\t Bananas & 2010 & East &  81 & 71 & 10 & 2010-12-31\\\\\n\t Bananas & 2009 & East &  94 & 78 & 16 & 2009-12-31\\\\\n\t Bananas & 2008 & East &  85 & 76 &  9 & 2008-12-31\\\\\n\t Oranges & 2010 & East &  98 & 91 &  7 & 2010-12-31\\\\\n\t Oranges & 2009 & East &  93 & 80 & 13 & 2009-12-31\\\\\n\t Oranges & 2008 & East &  96 & 81 & 15 & 2008-12-31\\\\\n\\end{tabular}\n",
            "text/plain": [
              "  Fruit   Year Location Sales Expenses Profit Date      \n",
              "1 Apples  2010 West      89   76       13     2010-12-31\n",
              "2 Apples  2009 West     111   79       32     2009-12-31\n",
              "3 Apples  2008 West      98   78       20     2008-12-31\n",
              "4 Bananas 2010 East      81   71       10     2010-12-31\n",
              "5 Bananas 2009 East      94   78       16     2009-12-31\n",
              "6 Bananas 2008 East      85   76        9     2008-12-31\n",
              "7 Oranges 2010 East      98   91        7     2010-12-31\n",
              "8 Oranges 2009 East      93   80       13     2009-12-31\n",
              "9 Oranges 2008 East      96   81       15     2008-12-31"
            ]
          },
          "metadata": {}
        },
        {
          "output_type": "display_data",
          "data": {
            "text/html": [
              "<table class=\"dataframe\">\n",
              "<caption>A data.frame: 9 × 7</caption>\n",
              "<thead>\n",
              "\t<tr><th scope=col>Fruit</th><th scope=col>Year</th><th scope=col>Location</th><th scope=col>Sales</th><th scope=col>Expenses</th><th scope=col>Profit</th><th scope=col>Date</th></tr>\n",
              "\t<tr><th scope=col>&lt;fct&gt;</th><th scope=col>&lt;dbl&gt;</th><th scope=col>&lt;fct&gt;</th><th scope=col>&lt;dbl&gt;</th><th scope=col>&lt;dbl&gt;</th><th scope=col>&lt;dbl&gt;</th><th scope=col>&lt;date&gt;</th></tr>\n",
              "</thead>\n",
              "<tbody>\n",
              "\t<tr><td>Apples </td><td>2010</td><td>West</td><td> 89</td><td>76</td><td>13</td><td>2010-12-31</td></tr>\n",
              "\t<tr><td>Apples </td><td>2009</td><td>West</td><td>111</td><td>79</td><td>32</td><td>2009-12-31</td></tr>\n",
              "\t<tr><td>Apples </td><td>2008</td><td>West</td><td> 98</td><td>78</td><td>20</td><td>2008-12-31</td></tr>\n",
              "\t<tr><td>Bananas</td><td>2010</td><td>East</td><td> 81</td><td>71</td><td>10</td><td>2010-12-31</td></tr>\n",
              "\t<tr><td>Bananas</td><td>2009</td><td>East</td><td> 94</td><td>78</td><td>16</td><td>2009-12-31</td></tr>\n",
              "\t<tr><td>Bananas</td><td>2008</td><td>East</td><td> 85</td><td>76</td><td> 9</td><td>2008-12-31</td></tr>\n",
              "\t<tr><td>Oranges</td><td>2010</td><td>East</td><td> 98</td><td>91</td><td> 7</td><td>2010-12-31</td></tr>\n",
              "\t<tr><td>Oranges</td><td>2009</td><td>East</td><td> 93</td><td>80</td><td>13</td><td>2009-12-31</td></tr>\n",
              "\t<tr><td>Oranges</td><td>2008</td><td>East</td><td> 96</td><td>81</td><td>15</td><td>2008-12-31</td></tr>\n",
              "</tbody>\n",
              "</table>\n"
            ],
            "text/markdown": "\nA data.frame: 9 × 7\n\n| Fruit &lt;fct&gt; | Year &lt;dbl&gt; | Location &lt;fct&gt; | Sales &lt;dbl&gt; | Expenses &lt;dbl&gt; | Profit &lt;dbl&gt; | Date &lt;date&gt; |\n|---|---|---|---|---|---|---|\n| Apples  | 2010 | West |  89 | 76 | 13 | 2010-12-31 |\n| Apples  | 2009 | West | 111 | 79 | 32 | 2009-12-31 |\n| Apples  | 2008 | West |  98 | 78 | 20 | 2008-12-31 |\n| Bananas | 2010 | East |  81 | 71 | 10 | 2010-12-31 |\n| Bananas | 2009 | East |  94 | 78 | 16 | 2009-12-31 |\n| Bananas | 2008 | East |  85 | 76 |  9 | 2008-12-31 |\n| Oranges | 2010 | East |  98 | 91 |  7 | 2010-12-31 |\n| Oranges | 2009 | East |  93 | 80 | 13 | 2009-12-31 |\n| Oranges | 2008 | East |  96 | 81 | 15 | 2008-12-31 |\n\n",
            "text/latex": "A data.frame: 9 × 7\n\\begin{tabular}{lllllll}\n Fruit & Year & Location & Sales & Expenses & Profit & Date\\\\\n <fct> & <dbl> & <fct> & <dbl> & <dbl> & <dbl> & <date>\\\\\n\\hline\n\t Apples  & 2010 & West &  89 & 76 & 13 & 2010-12-31\\\\\n\t Apples  & 2009 & West & 111 & 79 & 32 & 2009-12-31\\\\\n\t Apples  & 2008 & West &  98 & 78 & 20 & 2008-12-31\\\\\n\t Bananas & 2010 & East &  81 & 71 & 10 & 2010-12-31\\\\\n\t Bananas & 2009 & East &  94 & 78 & 16 & 2009-12-31\\\\\n\t Bananas & 2008 & East &  85 & 76 &  9 & 2008-12-31\\\\\n\t Oranges & 2010 & East &  98 & 91 &  7 & 2010-12-31\\\\\n\t Oranges & 2009 & East &  93 & 80 & 13 & 2009-12-31\\\\\n\t Oranges & 2008 & East &  96 & 81 & 15 & 2008-12-31\\\\\n\\end{tabular}\n",
            "text/plain": [
              "  Fruit   Year Location Sales Expenses Profit Date      \n",
              "1 Apples  2010 West      89   76       13     2010-12-31\n",
              "2 Apples  2009 West     111   79       32     2009-12-31\n",
              "3 Apples  2008 West      98   78       20     2008-12-31\n",
              "4 Bananas 2010 East      81   71       10     2010-12-31\n",
              "5 Bananas 2009 East      94   78       16     2009-12-31\n",
              "6 Bananas 2008 East      85   76        9     2008-12-31\n",
              "7 Oranges 2010 East      98   91        7     2010-12-31\n",
              "8 Oranges 2009 East      93   80       13     2009-12-31\n",
              "9 Oranges 2008 East      96   81       15     2008-12-31"
            ]
          },
          "metadata": {}
        }
      ]
    },
    {
      "cell_type": "code",
      "source": [
        "# 과일별로 지역에 따라 이익의 순서대로 정렬하시오\n",
        "Fruits %>% \n",
        "  arrange(Fruit, Location, Profit)"
      ],
      "metadata": {
        "id": "n8B-Stdj1wYz",
        "outputId": "d326203e-62b5-40b3-f792-0d73b4f7eb5b",
        "colab": {
          "base_uri": "https://localhost:8080/",
          "height": 380
        }
      },
      "execution_count": null,
      "outputs": [
        {
          "output_type": "display_data",
          "data": {
            "text/html": [
              "<table class=\"dataframe\">\n",
              "<caption>A data.frame: 9 × 7</caption>\n",
              "<thead>\n",
              "\t<tr><th scope=col>Fruit</th><th scope=col>Year</th><th scope=col>Location</th><th scope=col>Sales</th><th scope=col>Expenses</th><th scope=col>Profit</th><th scope=col>Date</th></tr>\n",
              "\t<tr><th scope=col>&lt;fct&gt;</th><th scope=col>&lt;dbl&gt;</th><th scope=col>&lt;fct&gt;</th><th scope=col>&lt;dbl&gt;</th><th scope=col>&lt;dbl&gt;</th><th scope=col>&lt;dbl&gt;</th><th scope=col>&lt;date&gt;</th></tr>\n",
              "</thead>\n",
              "<tbody>\n",
              "\t<tr><td>Apples </td><td>2010</td><td>West</td><td> 89</td><td>76</td><td>13</td><td>2010-12-31</td></tr>\n",
              "\t<tr><td>Apples </td><td>2008</td><td>West</td><td> 98</td><td>78</td><td>20</td><td>2008-12-31</td></tr>\n",
              "\t<tr><td>Apples </td><td>2009</td><td>West</td><td>111</td><td>79</td><td>32</td><td>2009-12-31</td></tr>\n",
              "\t<tr><td>Bananas</td><td>2008</td><td>East</td><td> 85</td><td>76</td><td> 9</td><td>2008-12-31</td></tr>\n",
              "\t<tr><td>Bananas</td><td>2010</td><td>East</td><td> 81</td><td>71</td><td>10</td><td>2010-12-31</td></tr>\n",
              "\t<tr><td>Bananas</td><td>2009</td><td>East</td><td> 94</td><td>78</td><td>16</td><td>2009-12-31</td></tr>\n",
              "\t<tr><td>Oranges</td><td>2010</td><td>East</td><td> 98</td><td>91</td><td> 7</td><td>2010-12-31</td></tr>\n",
              "\t<tr><td>Oranges</td><td>2009</td><td>East</td><td> 93</td><td>80</td><td>13</td><td>2009-12-31</td></tr>\n",
              "\t<tr><td>Oranges</td><td>2008</td><td>East</td><td> 96</td><td>81</td><td>15</td><td>2008-12-31</td></tr>\n",
              "</tbody>\n",
              "</table>\n"
            ],
            "text/markdown": "\nA data.frame: 9 × 7\n\n| Fruit &lt;fct&gt; | Year &lt;dbl&gt; | Location &lt;fct&gt; | Sales &lt;dbl&gt; | Expenses &lt;dbl&gt; | Profit &lt;dbl&gt; | Date &lt;date&gt; |\n|---|---|---|---|---|---|---|\n| Apples  | 2010 | West |  89 | 76 | 13 | 2010-12-31 |\n| Apples  | 2008 | West |  98 | 78 | 20 | 2008-12-31 |\n| Apples  | 2009 | West | 111 | 79 | 32 | 2009-12-31 |\n| Bananas | 2008 | East |  85 | 76 |  9 | 2008-12-31 |\n| Bananas | 2010 | East |  81 | 71 | 10 | 2010-12-31 |\n| Bananas | 2009 | East |  94 | 78 | 16 | 2009-12-31 |\n| Oranges | 2010 | East |  98 | 91 |  7 | 2010-12-31 |\n| Oranges | 2009 | East |  93 | 80 | 13 | 2009-12-31 |\n| Oranges | 2008 | East |  96 | 81 | 15 | 2008-12-31 |\n\n",
            "text/latex": "A data.frame: 9 × 7\n\\begin{tabular}{lllllll}\n Fruit & Year & Location & Sales & Expenses & Profit & Date\\\\\n <fct> & <dbl> & <fct> & <dbl> & <dbl> & <dbl> & <date>\\\\\n\\hline\n\t Apples  & 2010 & West &  89 & 76 & 13 & 2010-12-31\\\\\n\t Apples  & 2008 & West &  98 & 78 & 20 & 2008-12-31\\\\\n\t Apples  & 2009 & West & 111 & 79 & 32 & 2009-12-31\\\\\n\t Bananas & 2008 & East &  85 & 76 &  9 & 2008-12-31\\\\\n\t Bananas & 2010 & East &  81 & 71 & 10 & 2010-12-31\\\\\n\t Bananas & 2009 & East &  94 & 78 & 16 & 2009-12-31\\\\\n\t Oranges & 2010 & East &  98 & 91 &  7 & 2010-12-31\\\\\n\t Oranges & 2009 & East &  93 & 80 & 13 & 2009-12-31\\\\\n\t Oranges & 2008 & East &  96 & 81 & 15 & 2008-12-31\\\\\n\\end{tabular}\n",
            "text/plain": [
              "  Fruit   Year Location Sales Expenses Profit Date      \n",
              "1 Apples  2010 West      89   76       13     2010-12-31\n",
              "2 Apples  2008 West      98   78       20     2008-12-31\n",
              "3 Apples  2009 West     111   79       32     2009-12-31\n",
              "4 Bananas 2008 East      85   76        9     2008-12-31\n",
              "5 Bananas 2010 East      81   71       10     2010-12-31\n",
              "6 Bananas 2009 East      94   78       16     2009-12-31\n",
              "7 Oranges 2010 East      98   91        7     2010-12-31\n",
              "8 Oranges 2009 East      93   80       13     2009-12-31\n",
              "9 Oranges 2008 East      96   81       15     2008-12-31"
            ]
          },
          "metadata": {}
        }
      ]
    },
    {
      "cell_type": "code",
      "source": [
        ""
      ],
      "metadata": {
        "id": "TDXXvpdB1xpR"
      },
      "execution_count": null,
      "outputs": []
    }
  ]
}